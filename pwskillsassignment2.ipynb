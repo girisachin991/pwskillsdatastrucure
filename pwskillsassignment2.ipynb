{
 "cells": [
  {
   "cell_type": "code",
   "execution_count": null,
   "id": "0debfd46-fa53-4845-8e7d-73d8f70400e5",
   "metadata": {},
   "outputs": [],
   "source": [
    "# 1. Discuss string slicing and provide examples.\n",
    "''' String is a sequence of character represents and manipulate the textual data.\n",
    "    Character are represented using numerical values, each character assigned an unique value.\n",
    "    ASCII and UNICODE'''\n"
   ]
  },
  {
   "cell_type": "code",
   "execution_count": 1,
   "id": "6144c101-967f-4ace-8dc5-3274149137ad",
   "metadata": {},
   "outputs": [
    {
     "data": {
      "text/plain": [
       "97"
      ]
     },
     "execution_count": 1,
     "metadata": {},
     "output_type": "execute_result"
    }
   ],
   "source": [
    "# ASCII representation \n",
    "char ='a'\n",
    "ord(char)     # ord means what is the numerical order of character"
   ]
  },
  {
   "cell_type": "code",
   "execution_count": 9,
   "id": "239d3ffa-cd51-4c40-b466-be43a3300904",
   "metadata": {},
   "outputs": [
    {
     "data": {
      "text/plain": [
       "'S'"
      ]
     },
     "execution_count": 9,
     "metadata": {},
     "output_type": "execute_result"
    }
   ],
   "source": [
    "#Extract the character from string \n",
    "a='Sachin'\n",
    "a[0]"
   ]
  },
  {
   "cell_type": "code",
   "execution_count": 11,
   "id": "dea7de91-acf2-4120-b902-ab30f332cda8",
   "metadata": {},
   "outputs": [
    {
     "data": {
      "text/plain": [
       "'Sach'"
      ]
     },
     "execution_count": 11,
     "metadata": {},
     "output_type": "execute_result"
    }
   ],
   "source": [
    "# Slicing the data Syntax variable[start index:end index:step size]\n",
    "a[0:4]"
   ]
  },
  {
   "cell_type": "code",
   "execution_count": 13,
   "id": "3d32f560-62c8-4a76-8087-b62a85cbad03",
   "metadata": {},
   "outputs": [
    {
     "data": {
      "text/plain": [
       "'ah'"
      ]
     },
     "execution_count": 13,
     "metadata": {},
     "output_type": "execute_result"
    }
   ],
   "source": [
    "a[1:5:2]"
   ]
  },
  {
   "cell_type": "code",
   "execution_count": null,
   "id": "8346d7d2-470c-43a7-9bc2-4d6bff1fb970",
   "metadata": {},
   "outputs": [],
   "source": [
    "# 2. Explain the key features of lists in Python.\n",
    "''' Lists are the Ordered collection of items.\n",
    "    Since it's order collection we can extract tha data with the help of indexing.\n",
    "    Lists are written under []\n",
    "    Lists are collection of heterogenous data.\n",
    "    Lista are mutable'''\n",
    "list1=[1,2,\"Sachin\",\"Apple\",2.5,True]"
   ]
  },
  {
   "cell_type": "code",
   "execution_count": null,
   "id": "4890b14d-8bfa-4a24-a2e1-2d8a80a3c0df",
   "metadata": {},
   "outputs": [],
   "source": [
    "#3. Describe how to access, modify, and delete elements in a list with examples."
   ]
  },
  {
   "cell_type": "code",
   "execution_count": 17,
   "id": "d684c48c-bc46-4078-9f2b-25b22e1d33f6",
   "metadata": {},
   "outputs": [
    {
     "data": {
      "text/plain": [
       "'Sachin'"
      ]
     },
     "execution_count": 17,
     "metadata": {},
     "output_type": "execute_result"
    }
   ],
   "source": [
    "# Access from list -----> With help of index value \n",
    "list1=[1,2,\"Sachin\",\"Apple\",2.5,True]\n",
    "list1[2]"
   ]
  },
  {
   "cell_type": "code",
   "execution_count": 21,
   "id": "407bd55d-ee4d-4eb3-8634-0a010ca4bce7",
   "metadata": {},
   "outputs": [
    {
     "data": {
      "text/plain": [
       "[1, 2, 'Sachin', 'Apple', 2.5, True, 'Bihar']"
      ]
     },
     "execution_count": 21,
     "metadata": {},
     "output_type": "execute_result"
    }
   ],
   "source": [
    "# Modify-----> add new element by using append() ----> Add ne element at the end of list \n",
    "list1=[1,2,\"Sachin\",\"Apple\",2.5,True]\n",
    "list1.append(\"Bihar\")\n",
    "list1 "
   ]
  },
  {
   "cell_type": "code",
   "execution_count": 23,
   "id": "7b68e0f2-27fc-46f5-bc08-a81f093ba977",
   "metadata": {},
   "outputs": [
    {
     "data": {
      "text/plain": [
       "['Saran', 2, 'Sachin', 'Apple', 2.5, True]"
      ]
     },
     "execution_count": 23,
     "metadata": {},
     "output_type": "execute_result"
    }
   ],
   "source": [
    "# Replacing some element inj list with other element \n",
    "list1=[1,2,\"Sachin\",\"Apple\",2.5,True]\n",
    "list1[0]=\"Saran\"\n",
    "list1 "
   ]
  },
  {
   "cell_type": "code",
   "execution_count": 25,
   "id": "2bf66d4a-1423-439d-aceb-dbf020162ca8",
   "metadata": {},
   "outputs": [
    {
     "data": {
      "text/plain": [
       "[1, 'Chhapra', 2, 'Sachin', 'Apple', 2.5, True]"
      ]
     },
     "execution_count": 25,
     "metadata": {},
     "output_type": "execute_result"
    }
   ],
   "source": [
    "# Insert()-----> add element to a partricular position ----> add element before the index value \n",
    "list1=[1,2,\"Sachin\",\"Apple\",2.5,True]\n",
    "list1.insert(1,\"Chhapra\")\n",
    "list1 "
   ]
  },
  {
   "cell_type": "code",
   "execution_count": 27,
   "id": "ef06a65c-e0fb-4ce0-96b5-5947d8b80ce9",
   "metadata": {},
   "outputs": [
    {
     "data": {
      "text/plain": [
       "[1, 2, 'Sachin', 'Apple', 2.5]"
      ]
     },
     "execution_count": 27,
     "metadata": {},
     "output_type": "execute_result"
    }
   ],
   "source": [
    "# Delete an element ------> pop(index value) ----> if index value is not given then it removes element at the end \n",
    "list1=[1,2,\"Sachin\",\"Apple\",2.5,True]\n",
    "list1.pop()\n",
    "list1"
   ]
  },
  {
   "cell_type": "code",
   "execution_count": 29,
   "id": "ab72e8ce-0656-49cb-b9c1-7d5bcad56e98",
   "metadata": {},
   "outputs": [
    {
     "data": {
      "text/plain": [
       "[1, 2, 'Sachin', 'Apple', True]"
      ]
     },
     "execution_count": 29,
     "metadata": {},
     "output_type": "execute_result"
    }
   ],
   "source": [
    "list1=[1,2,\"Sachin\",\"Apple\",2.5,True]\n",
    "list1.pop(4)\n",
    "list1 "
   ]
  },
  {
   "cell_type": "code",
   "execution_count": null,
   "id": "0b8b2e08-7c39-4883-93f0-1549f9395139",
   "metadata": {},
   "outputs": [],
   "source": [
    "#4. Compare and contrast tuples and lists with examples.\n",
    "'''LIST\n",
    "    Lists are the Ordered collection of items.\n",
    "    Since it's order collection we can extract tha data with the help of indexing.\n",
    "    Lists are written under []\n",
    "    Lists are collection of heterogenous data.\n",
    "    Lista are mutable\n",
    "   TUPLE \n",
    "    Tuple are the Ordered collection of items.\n",
    "    Since it's order collection we can extract tha data with the help of indexing.\n",
    "    Tuple are written under ()\n",
    "    Tuple are collection of heterogenous data.\n",
    "    Tuple are immutable'''"
   ]
  },
  {
   "cell_type": "code",
   "execution_count": 31,
   "id": "4d2fe74b-5684-438b-8546-f178a83dc1b6",
   "metadata": {},
   "outputs": [
    {
     "ename": "AttributeError",
     "evalue": "'tuple' object has no attribute 'append'",
     "output_type": "error",
     "traceback": [
      "\u001b[1;31m---------------------------------------------------------------------------\u001b[0m",
      "\u001b[1;31mAttributeError\u001b[0m                            Traceback (most recent call last)",
      "Cell \u001b[1;32mIn[31], line 3\u001b[0m\n\u001b[0;32m      1\u001b[0m \u001b[38;5;66;03m# try to add new element in tuple \u001b[39;00m\n\u001b[0;32m      2\u001b[0m tuple1\u001b[38;5;241m=\u001b[39m(\u001b[38;5;241m1\u001b[39m,\u001b[38;5;241m2\u001b[39m,\u001b[38;5;124m\"\u001b[39m\u001b[38;5;124mSachin\u001b[39m\u001b[38;5;124m\"\u001b[39m,\u001b[38;5;124m\"\u001b[39m\u001b[38;5;124mApple\u001b[39m\u001b[38;5;124m\"\u001b[39m,\u001b[38;5;241m2.5\u001b[39m,\u001b[38;5;28;01mTrue\u001b[39;00m)\n\u001b[1;32m----> 3\u001b[0m tuple1\u001b[38;5;241m.\u001b[39mappend(\u001b[38;5;124m\"\u001b[39m\u001b[38;5;124mSaran\u001b[39m\u001b[38;5;124m\"\u001b[39m)\n\u001b[0;32m      4\u001b[0m tuple1\n",
      "\u001b[1;31mAttributeError\u001b[0m: 'tuple' object has no attribute 'append'"
     ]
    }
   ],
   "source": [
    "# try to add new element in tuple \n",
    "tuple1=(1,2,\"Sachin\",\"Apple\",2.5,True)\n",
    "tuple1.append(\"Saran\")\n",
    "tuple1 "
   ]
  },
  {
   "cell_type": "code",
   "execution_count": 35,
   "id": "c134aad8-ef0f-4b60-a8ec-fef5779a8a52",
   "metadata": {},
   "outputs": [
    {
     "data": {
      "text/plain": [
       "{'saffron': None, 'Red': None, 'green': None}"
      ]
     },
     "execution_count": 35,
     "metadata": {},
     "output_type": "execute_result"
    }
   ],
   "source": [
    "# 5. Describe the key features of sets and provide examples of their use.\n",
    "''' Sets are unordered and unique collection of elements.\n",
    "    It doesn't allow any duplicate elements.\n",
    "    Written under {}.\n",
    "    Indexing is not possible as elements are unordered, so the elements are not accessible\n",
    "    Sets are like dictionaries without values.\n",
    "    The Python sets are highly useful to efficiently remove duplicate values from a collection like a list and to perform common math operations like unions and intersections.'''\n",
    "colour_options = {\"saffron\": None, \"Red\": None, \"green\": None}   # Sets are like dictionaries without values\n",
    "colour_options"
   ]
  },
  {
   "cell_type": "code",
   "execution_count": null,
   "id": "7cf83558-f0c1-44e6-a23b-9c3ad446b928",
   "metadata": {},
   "outputs": [],
   "source": [
    "# 6.Discuss the use cases of tuples and sets in Python programming.\n",
    "''' Tuples and sets are both data structures in Python.\n",
    "    Tuples are ordered collections of elements, which are immutable (meaning they can't be changed once created). \n",
    "    Sets, on the other hand, are unordered collections of unique elements.\n",
    "    TUPLE \n",
    "    In Python, a tuple could be a data type comparable to a list but immutable, meaning it cannot be changed once made.\n",
    "    A tuple is made by enclosing a sequence of values in parentheses, separated by commas.\n",
    "    The POS system may have a tuple that contains the details of each order made by a customer. \n",
    "    This tuple may include the customer's name, the items ordered, the quantities ordered, and the total cost of the order.\n",
    "    SET \n",
    "    In Python, a set is a collection of unique elements that are unordered and mutable.\n",
    "    One industry example of using sets in Python is data analysis. \n",
    "    For instance, suppose a data analyst is working with a large dataset of customer transactions from an e-commerce platform. \n",
    "    The analyst needs to extract a list of unique products that customers purchase during a specific time period. '''\n",
    "\n"
   ]
  },
  {
   "cell_type": "code",
   "execution_count": null,
   "id": "08865410-446e-4278-bd8b-fd6740538cd0",
   "metadata": {},
   "outputs": [],
   "source": [
    "# 7. Describe how to add, modify, and delete items in a dictionary with examples.\n",
    " '''A dictionary is a kind of data structure that stores items in key-value pairs.\n",
    " A key is a unique identifier for an item, and a value is the data associated with that key.'''"
   ]
  },
  {
   "cell_type": "code",
   "execution_count": 37,
   "id": "7c99296c-2efa-4f53-bfea-a91940ceb643",
   "metadata": {},
   "outputs": [
    {
     "data": {
      "text/plain": [
       "{'name': 'sachin', 'Age': 26, 'Designation': 'Analyst', 'State': 'Bihar'}"
      ]
     },
     "execution_count": 37,
     "metadata": {},
     "output_type": "execute_result"
    }
   ],
   "source": [
    "# Add items in dictionary.\n",
    "employee={\"name\":\"sachin\",\"Age\":26,\"Designation\":\"Analyst\"}\n",
    "employee[\"State\"]=\"Bihar\"\n",
    "employee"
   ]
  },
  {
   "cell_type": "code",
   "execution_count": 39,
   "id": "0d12654b-103c-48d4-8d07-b6b104a75017",
   "metadata": {},
   "outputs": [
    {
     "data": {
      "text/plain": [
       "{'Name': 'sachin', 'Age': 26, 'Designation': 'Analyst'}"
      ]
     },
     "execution_count": 39,
     "metadata": {},
     "output_type": "execute_result"
    }
   ],
   "source": [
    "# Modify items in dictionary\n",
    "employee={\"Name\":\"sachin\",\"Age\":25,\"Designation\":\"Analyst\"}\n",
    "employee[\"Age\"]=26\n",
    "employee"
   ]
  },
  {
   "cell_type": "code",
   "execution_count": 43,
   "id": "7e450f99-4b58-401b-8949-20ef82336a9b",
   "metadata": {},
   "outputs": [
    {
     "data": {
      "text/plain": [
       "{'Name': 'sachin', 'Designation': 'Analyst'}"
      ]
     },
     "execution_count": 43,
     "metadata": {},
     "output_type": "execute_result"
    }
   ],
   "source": [
    "# Delete items in dictionary\n",
    "employee={\"Name\":\"sachin\",\"Age\":25,\"Designation\":\"Analyst\"}\n",
    "del employee[\"Age\"]\n",
    "employee"
   ]
  },
  {
   "cell_type": "code",
   "execution_count": null,
   "id": "64b0a830-2641-4ecf-9bd0-6228341c2a68",
   "metadata": {},
   "outputs": [],
   "source": [
    "# 8. Discuss the importance of dictionary keys being immutable and provide examples.\n",
    "'''A dictionary is a kind of data structure that stores items in key-value pairs.\n",
    "   A key is a unique identifier for an item, and a value is the data associated with that key.\n",
    "   Dictionaries are mutable in Python, which means they can be changed after they are created. \n",
    "   They are also unordered, indicating the items in a dictionary are not stored in any particular order.'''"
   ]
  },
  {
   "cell_type": "code",
   "execution_count": 45,
   "id": "952a1d4c-52cd-40c2-9ee3-13a2b05517f1",
   "metadata": {},
   "outputs": [
    {
     "data": {
      "text/plain": [
       "{'name': 'sachin', 'Age': 26, 'Designation': 'Analyst', 'State': 'Bihar'}"
      ]
     },
     "execution_count": 45,
     "metadata": {},
     "output_type": "execute_result"
    }
   ],
   "source": [
    "employee={\"name\":\"sachin\",\"Age\":26,\"Designation\":\"Analyst\"}\n",
    "employee[\"State\"]=\"Bihar\"\n",
    "employee"
   ]
  },
  {
   "cell_type": "code",
   "execution_count": null,
   "id": "ba564b0b-18c5-411e-8f15-f79d8f059fca",
   "metadata": {},
   "outputs": [],
   "source": []
  }
 ],
 "metadata": {
  "kernelspec": {
   "display_name": "Python 3 (ipykernel)",
   "language": "python",
   "name": "python3"
  },
  "language_info": {
   "codemirror_mode": {
    "name": "ipython",
    "version": 3
   },
   "file_extension": ".py",
   "mimetype": "text/x-python",
   "name": "python",
   "nbconvert_exporter": "python",
   "pygments_lexer": "ipython3",
   "version": "3.12.4"
  }
 },
 "nbformat": 4,
 "nbformat_minor": 5
}
